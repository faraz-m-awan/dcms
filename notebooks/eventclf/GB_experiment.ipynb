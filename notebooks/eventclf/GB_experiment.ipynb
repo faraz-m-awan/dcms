{
 "cells": [
  {
   "cell_type": "code",
   "execution_count": null,
   "id": "a117cfea",
   "metadata": {},
   "outputs": [],
   "source": [
    "from eventclf.v2.models.event_gradient_boosting_classifier import EventGradientBoostingClassifier\n",
    "from eventclf.v2.data_processing.data_processing import clean_data,all_feats\n",
    "import pandas as pd \n",
    "from sklearn.metrics import f1_score, accuracy_score, precision_score,recall_score"
   ]
  },
  {
   "cell_type": "code",
   "execution_count": null,
   "id": "4228c03a",
   "metadata": {},
   "outputs": [],
   "source": [
    "data_lists = ['farnborough',\"rugby\"]\n",
    "data_dict = {\n",
    "    event:{f\"{df}_data\":pd.read_csv(f\"../../../../data/processed_data/{event}_{df}.csv\") for df in [\"train\",\"test\"]}for event in data_lists \n",
    "}"
   ]
  },
  {
   "cell_type": "code",
   "execution_count": null,
   "id": "67549b19",
   "metadata": {},
   "outputs": [],
   "source": [
    "for event_dict in data_dict.values():\n",
    "    event_dict['X_train'] = [_clean_text(text,[]) for text in event_dict['train_data']['text']]\n",
    "    event_dict['X_test'] = [_clean_text(text,[]) for text in event_dict['test_data']['text']]\n",
    "    event_dict['y_train'] = np.array(event_dict['train_data']['y'])\n",
    "    event_dict['y_test'] = np.array(event_dict['test_data']['y'])"
   ]
  }
 ],
 "metadata": {
  "kernelspec": {
   "display_name": "Python 3 (ipykernel)",
   "language": "python",
   "name": "python3"
  },
  "language_info": {
   "codemirror_mode": {
    "name": "ipython",
    "version": 3
   },
   "file_extension": ".py",
   "mimetype": "text/x-python",
   "name": "python",
   "nbconvert_exporter": "python",
   "pygments_lexer": "ipython3",
   "version": "3.9.15"
  }
 },
 "nbformat": 4,
 "nbformat_minor": 5
}
