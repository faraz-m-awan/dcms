{
 "cells": [
  {
   "cell_type": "code",
   "execution_count": null,
   "id": "2555ca7d",
   "metadata": {},
   "outputs": [],
   "source": [
    "from eventclf.v2.models.event_llm.event_llm import EventLLM, LLMModels\n",
    "from eventclf.v2.models.event_llm.prompts import EVENT_ATTENTENCE_TEMPLATE\n",
    "from eventclf.v2.data_processing.data_processing import _clean_text"
   ]
  },
  {
   "cell_type": "code",
   "execution_count": null,
   "id": "9ce0b01e",
   "metadata": {},
   "outputs": [],
   "source": [
    "import pandas as pd \n",
    "from sklearn.metrics import f1_score, accuracy_score, precision_score,recall_score"
   ]
  },
  {
   "cell_type": "code",
   "execution_count": null,
   "id": "3f0e5242",
   "metadata": {},
   "outputs": [],
   "source": [
    "import os \n",
    "from dotenv import load_dotenv\n",
    "import numpy as np\n",
    "import torch"
   ]
  },
  {
   "cell_type": "code",
   "execution_count": null,
   "id": "491e6c2e",
   "metadata": {},
   "outputs": [],
   "source": [
    "load_dotenv()"
   ]
  },
  {
   "cell_type": "markdown",
   "id": "4ad3004a",
   "metadata": {},
   "source": [
    "# Load Data"
   ]
  },
  {
   "cell_type": "code",
   "execution_count": null,
   "id": "91f9502e",
   "metadata": {},
   "outputs": [],
   "source": [
    "data_lists = ['farnborough',\"rugby\"]\n",
    "data_dict = {\n",
    "    event:{f\"{df}_data\":pd.read_csv(f\"../../../../data/processed_data/{event}_{df}.csv\") for df in [\"train\",\"test\"]}for event in data_lists \n",
    "}"
   ]
  },
  {
   "cell_type": "markdown",
   "id": "cfb87fff",
   "metadata": {},
   "source": [
    "# Prompts"
   ]
  },
  {
   "cell_type": "code",
   "execution_count": null,
   "id": "7d8d0609",
   "metadata": {},
   "outputs": [],
   "source": [
    "data_dict['farnborough']['event'] = \"Farnborough International Airshow 2024\"\n",
    "data_dict['farnborough']['event_description'] = \"An industry convention for those in the Aerospace, aviation and defence industry to showcase advancements and innovations in those areas\"\n",
    "data_dict['farnborough']['examples'] = \"\"\"\n",
    "learning from theses examples classify the post:\n",
    "\n",
    "EXAMPLE 1:\n",
    "Post: Excellent flying seen today, always a thrill seeing the new E-156, very loud and very fast\n",
    "Response: Yes \n",
    "\n",
    "EXAMPLE 2: \n",
    "Post:Succesful first day of @FIAFarnborough, signed a deal with @UserHandle on fuel emmision standards\n",
    "Response: Yes \n",
    "\n",
    "EXAMPLE 3: \n",
    "Post: Cant believe how amazing it was seeing the F-14 aicrafts #putneyairshow\n",
    "Response: No\n",
    "\n",
    "EXAMPLE 4: \n",
    "Post: Farnborough Airshow facing a wave of protests around support for Qatar\n",
    "Response: No\n",
    "\"\"\""
   ]
  },
  {
   "cell_type": "code",
   "execution_count": null,
   "id": "ac4ef21f",
   "metadata": {},
   "outputs": [],
   "source": [
    "data_dict['rugby']['event'] = \"Scottish Rugby Autumn Internationals Scotland Vs New Zealand\"\n",
    "data_dict['rugby']['event_description'] = \"A rugby match played by Scotland against New Zealand at Murrayfield stadium\"\n",
    "data_dict['rugby']['examples'] = \"\"\"\n",
    "learning from theses examples classify the post:\n",
    "EXAMPLE 1:\n",
    "Post: Cannot believe the queues at murrayfield, going to miss the rugby at this rate\n",
    "Response: Yes \n",
    "\n",
    "EXAMPLE 2: \n",
    "Post:Such a heartwarming dedication to to Doddy in the stadium\n",
    "Response: Yes \n",
    "\n",
    "EXAMPLE 3: \n",
    "Post: We dont need to be giving away fouls like that @Scottishrugby, PLAY BETTER!!!! \n",
    "Response: No\n",
    "\n",
    "EXAMPLE 4: \n",
    "Post: Love to see it!! The all blacks smashing england. DISTRUCTION\n",
    "Response: No\n",
    "_________\n",
    "\"\"\""
   ]
  },
  {
   "cell_type": "code",
   "execution_count": null,
   "id": "137445e9",
   "metadata": {},
   "outputs": [],
   "source": [
    "for event_dict in data_dict.values():\n",
    "    event_dict['X_train'] = [_clean_text(text,[]) for text in event_dict['train_data']['text']]\n",
    "    event_dict['X_test'] = [_clean_text(text,[]) for text in event_dict['test_data']['text']]\n",
    "    event_dict['y_train'] = np.array(event_dict['train_data']['y'])\n",
    "    event_dict['y_test'] = np.array(event_dict['test_data']['y'])"
   ]
  },
  {
   "cell_type": "markdown",
   "id": "b2bfc73a",
   "metadata": {},
   "source": [
    "## Set up model"
   ]
  },
  {
   "cell_type": "code",
   "execution_count": null,
   "id": "693c8880",
   "metadata": {},
   "outputs": [],
   "source": [
    "EVENT_ATTENTENCE_TEMPLATE = \"\"\"\n",
    "Your task is to determine whether a social media posts suggests that the author or another person attended a particular event.\n",
    "\n",
    "{event} is {event_description}\n",
    "\n",
    "{examples}\n",
    "\n",
    "Instructions:\n",
    "   - Yes: Consider the event description provided. Classify as \"Yes\" if it includes mention or implication that the author participated in or will participate in, or was physically present at the event.\n",
    "   - No: Classify as \"No\" if the social media post does not suggest the author attended the event, it is about the event but does not indicate past or future attendance.\n",
    "   \n",
    "Ensure the post references the specific event and indicates the poster being physically present\n",
    "Return only either \"Yes\" or \"No\"\n",
    "\n",
    "\n",
    "Post: {post}\n",
    "\n",
    "Response:\n",
    "\"\"\""
   ]
  },
  {
   "cell_type": "code",
   "execution_count": null,
   "id": "401efe8a",
   "metadata": {},
   "outputs": [],
   "source": [
    "device = \"cuda\" if torch.cuda.is_available() else \"cpu\""
   ]
  },
  {
   "cell_type": "code",
   "execution_count": null,
   "id": "30c091a5",
   "metadata": {},
   "outputs": [],
   "source": [
    "event_llm = EventLLM(access_token=os.environ['HF_ACCESS_TOKEN'],batch_size=5,model=LLMModels.llama_3_1_8b_instruct.value,device=device)"
   ]
  },
  {
   "cell_type": "code",
   "execution_count": null,
   "id": "37768ff6",
   "metadata": {},
   "outputs": [],
   "source": [
    "res_list = []\n",
    "for event,event_dict in data_dict.items():\n",
    "    for examples in [event_dict['examples'],\"\"]:\n",
    "        prompt_dict = {\n",
    "            \"event\":event_dict['event'],\n",
    "            \"event_description\":event_dict['event_description'],\n",
    "            \"examples\":examples\n",
    "        }\n",
    "        for run in ['train','test']:\n",
    "            res = event_llm.predict(\n",
    "                prompt_template=EVENT_ATTENTENCE_TEMPLATE,\n",
    "                prompt_inputs=prompt_dict,\n",
    "                posts=event_dict[f\"X_{run}\"]\n",
    "            )\n",
    "            res_clean = np.array([abs(1-event_dict[f\"y_{run}\"][idx]) if np.isnan(i) else i for idx,i in enumerate(res)])\n",
    "            res_dict ={\n",
    "                \"event\":event,\n",
    "                \"stratagy\": \"few shot\" if len(examples) > 0 else \"zero shot\",\n",
    "                \"run\":run,\n",
    "                \"res\":res,\n",
    "                \"f1\":f1_score(event_dict[f\"y_{run}\"],res_clean),\n",
    "                \"precision\":precision_score(event_dict[f\"y_{run}\"],res_clean),\n",
    "                \"recall\":recall_score(event_dict[f\"y_{run}\"],res_clean),\n",
    "                \"accuracy\":accuracy_score(event_dict[f\"y_{run}\"],res_clean)\n",
    "            }\n",
    "            res_list.append(res_dict)"
   ]
  },
  {
   "cell_type": "code",
   "execution_count": null,
   "id": "1fba4269",
   "metadata": {},
   "outputs": [],
   "source": [
    "import json"
   ]
  },
  {
   "cell_type": "code",
   "execution_count": null,
   "id": "1f3aed11",
   "metadata": {},
   "outputs": [],
   "source": [
    "with open(\"llm_results.json\",'w') as fp:\n",
    "    json.dump(res_list,fp)"
   ]
  },
  {
   "cell_type": "code",
   "execution_count": null,
   "id": "fcfd34eb",
   "metadata": {},
   "outputs": [],
   "source": [
    "res_list"
   ]
  },
  {
   "cell_type": "code",
   "execution_count": null,
   "id": "558507d3",
   "metadata": {},
   "outputs": [],
   "source": [
    "examples = event_dict['examples']\n",
    "\n",
    "prompt_dict = {\n",
    "    \"event\":event_dict['event'],\n",
    "    \"event_description\":event_dict['event_description'],\n",
    "    \"examples\":\"\"\n",
    "}"
   ]
  },
  {
   "cell_type": "code",
   "execution_count": null,
   "id": "a8ed1837",
   "metadata": {},
   "outputs": [],
   "source": [
    "run = \"test\""
   ]
  },
  {
   "cell_type": "code",
   "execution_count": null,
   "id": "98b3a2b1",
   "metadata": {},
   "outputs": [],
   "source": [
    "res = event_llm.predict(\n",
    "    prompt_template=EVENT_ATTENTENCE_TEMPLATE,\n",
    "    prompt_inputs=prompt_dict,\n",
    "    posts=event_dict[f\"X_{run}\"],\n",
    "    max_new_tokens=20,\n",
    "    temperature=0.1,\n",
    ")"
   ]
  },
  {
   "cell_type": "code",
   "execution_count": null,
   "id": "e42e8bf7",
   "metadata": {},
   "outputs": [],
   "source": [
    "event_llm._out"
   ]
  },
  {
   "cell_type": "code",
   "execution_count": null,
   "id": "fb76d3c3",
   "metadata": {},
   "outputs": [],
   "source": [
    "accuracy_score(event_dict[f\"y_{run}\"],np.nan_to_num(res,nan=2))"
   ]
  },
  {
   "cell_type": "code",
   "execution_count": null,
   "id": "fedd9b6f",
   "metadata": {},
   "outputs": [],
   "source": [
    "pd.Series(event_llm._out)[(np.array(res)==1) & (event_dict['y_train']==0)].tolist()"
   ]
  },
  {
   "cell_type": "code",
   "execution_count": null,
   "id": "e5cfc310",
   "metadata": {},
   "outputs": [],
   "source": [
    "pd.Series(event_dict['X_train'])[(np.array(res)==0) & (event_dict['y_train']==1)].tolist()"
   ]
  },
  {
   "cell_type": "code",
   "execution_count": null,
   "id": "b3a1aac0",
   "metadata": {},
   "outputs": [],
   "source": [
    "np.where(event_dict['y_train']==0)"
   ]
  },
  {
   "cell_type": "code",
   "execution_count": null,
   "id": "4f86a036",
   "metadata": {},
   "outputs": [],
   "source": [
    "event_dict['X_train']"
   ]
  },
  {
   "cell_type": "code",
   "execution_count": null,
   "id": "c57db40d",
   "metadata": {},
   "outputs": [],
   "source": [
    "np.is"
   ]
  }
 ],
 "metadata": {
  "kernelspec": {
   "display_name": "Python 3 (ipykernel)",
   "language": "python",
   "name": "python3"
  },
  "language_info": {
   "codemirror_mode": {
    "name": "ipython",
    "version": 3
   },
   "file_extension": ".py",
   "mimetype": "text/x-python",
   "name": "python",
   "nbconvert_exporter": "python",
   "pygments_lexer": "ipython3",
   "version": "3.9.15"
  }
 },
 "nbformat": 4,
 "nbformat_minor": 5
}
